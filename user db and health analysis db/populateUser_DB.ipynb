{
 "cells": [
  {
   "cell_type": "code",
   "execution_count": 3,
   "metadata": {},
   "outputs": [
    {
     "name": "stdout",
     "output_type": "stream",
     "text": [
      "Requirement already satisfied: faker in c:\\users\\acer\\appdata\\local\\packages\\pythonsoftwarefoundation.python.3.11_qbz5n2kfra8p0\\localcache\\local-packages\\python311\\site-packages (37.0.0)\n",
      "Requirement already satisfied: mysql-connector-python in c:\\users\\acer\\appdata\\local\\packages\\pythonsoftwarefoundation.python.3.11_qbz5n2kfra8p0\\localcache\\local-packages\\python311\\site-packages (9.2.0)\n",
      "Requirement already satisfied: tzdata in c:\\users\\acer\\appdata\\local\\packages\\pythonsoftwarefoundation.python.3.11_qbz5n2kfra8p0\\localcache\\local-packages\\python311\\site-packages (from faker) (2023.4)\n",
      "Note: you may need to restart the kernel to use updated packages.\n"
     ]
    },
    {
     "name": "stderr",
     "output_type": "stream",
     "text": [
      "\n",
      "[notice] A new release of pip is available: 24.0 -> 25.0.1\n",
      "[notice] To update, run: C:\\Users\\ACER\\AppData\\Local\\Microsoft\\WindowsApps\\PythonSoftwareFoundation.Python.3.11_qbz5n2kfra8p0\\python.exe -m pip install --upgrade pip\n"
     ]
    }
   ],
   "source": [
    "pip install faker mysql-connector-python"
   ]
  },
  {
   "cell_type": "code",
   "execution_count": 7,
   "metadata": {},
   "outputs": [],
   "source": [
    "import mysql.connector\n",
    "from faker import Faker\n",
    "import hashlib\n",
    "from datetime import datetime, timedelta\n",
    "import random"
   ]
  },
  {
   "cell_type": "markdown",
   "metadata": {},
   "source": [
    "# Populate UserInfo table"
   ]
  },
  {
   "cell_type": "code",
   "execution_count": 2,
   "metadata": {},
   "outputs": [
    {
     "name": "stdout",
     "output_type": "stream",
     "text": [
      "100 synthetic users inserted successfully!\n"
     ]
    }
   ],
   "source": [
    "# Initialize Faker\n",
    "fake = Faker()\n",
    "\n",
    "# Connect to MySQL\n",
    "conn = mysql.connector.connect(\n",
    "    host=\"localhost\",\n",
    "    user=\"root\",\n",
    "    password=\"123456789!\",\n",
    "    database=\"User_DB\"\n",
    ")\n",
    "cursor = conn.cursor()\n",
    "\n",
    "# Function to generate hashed passwords\n",
    "def hash_password(password):\n",
    "    return hashlib.md5(password.encode()).hexdigest()  # MD5 for simplicity\n",
    "\n",
    "# Generate and insert 100 fake users\n",
    "for _ in range(100):\n",
    "    first_name = fake.first_name()\n",
    "    last_name = fake.last_name()\n",
    "    age = random.randint(18, 60)\n",
    "    gender = random.choice(['M', 'F'])\n",
    "    dob = fake.date_of_birth(minimum_age=age, maximum_age=age)\n",
    "    email = fake.unique.email()\n",
    "    password_hash = hash_password(fake.password())\n",
    "\n",
    "    sql = \"\"\"INSERT INTO UserInfo (first_name, last_name, age, gender, dob, email, password_hash)\n",
    "             VALUES (%s, %s, %s, %s, %s, %s, %s)\"\"\"\n",
    "    values = (first_name, last_name, age, gender, dob, email, password_hash)\n",
    "    \n",
    "    cursor.execute(sql, values)\n",
    "\n",
    "# Commit and close connection\n",
    "conn.commit()\n",
    "cursor.close()\n",
    "conn.close()\n",
    "\n",
    "print(\"100 synthetic users inserted successfully!\")\n"
   ]
  },
  {
   "cell_type": "markdown",
   "metadata": {},
   "source": [
    "# Populate HealthMetrics table"
   ]
  },
  {
   "cell_type": "code",
   "execution_count": 6,
   "metadata": {},
   "outputs": [
    {
     "name": "stdout",
     "output_type": "stream",
     "text": [
      "303 synthetic health records inserted successfully!\n"
     ]
    }
   ],
   "source": [
    "# Initialize Faker\n",
    "fake = Faker()\n",
    "\n",
    "# Connect to MySQL\n",
    "conn = mysql.connector.connect(\n",
    "    host=\"localhost\",\n",
    "    user=\"root\",\n",
    "    password=\"123456789!\",\n",
    "    database=\"User_DB\"\n",
    ")\n",
    "cursor = conn.cursor()\n",
    "\n",
    "# Fetch all user IDs from UserInfo\n",
    "cursor.execute(\"SELECT user_id FROM UserInfo\")\n",
    "user_ids = [row[0] for row in cursor.fetchall()]\n",
    "\n",
    "# Function to generate synthetic health data\n",
    "def generate_health_data():\n",
    "    avg_exercise_per_week = random.randint(0, 10)  # 0-10 hours per week\n",
    "    avg_sleep_hours = random.randint(4, 10)  # 4-10 hours per day\n",
    "    stress_level = random.randint(1, 10)  # 1 (low stress) to 10 (high stress)\n",
    "    \n",
    "    diet_quality = random.choices(\n",
    "        ['Poor', 'Average', 'Good', 'Very good'], \n",
    "        weights=[0.2, 0.4, 0.3, 0.1]  # More people have average diets\n",
    "    )[0]\n",
    "    \n",
    "    substance_choices = ['Alcohol', 'Caffeine', 'Tobacco', 'None']\n",
    "    most_freq_substance_used = random.choices(substance_choices, weights=[0.3, 0.4, 0.2, 0.1])[0]\n",
    "    \n",
    "    # Generate a random date within the last 365 days\n",
    "    date_recorded = fake.date_between(start_date='-365d', end_date='today')\n",
    "    \n",
    "    return (avg_exercise_per_week, avg_sleep_hours, stress_level, diet_quality, most_freq_substance_used, date_recorded)\n",
    "\n",
    "# Insert synthetic data for each user\n",
    "for user_id in user_ids:\n",
    "    health_data = generate_health_data()\n",
    "    \n",
    "    sql = \"\"\"INSERT INTO HealthMetrics (user_id, date_recorded, avg_exercise_per_week, avg_sleep_hours, stress_level, diet_quality, most_freq_substance_used)\n",
    "             VALUES (%s, %s, %s, %s, %s, %s, %s)\"\"\"\n",
    "    \n",
    "    values = (user_id, health_data[5], health_data[0], health_data[1], health_data[2], health_data[3], health_data[4])\n",
    "    \n",
    "    cursor.execute(sql, values)\n",
    "\n",
    "# Commit and close connection\n",
    "conn.commit()\n",
    "cursor.close()\n",
    "conn.close()\n",
    "\n",
    "print(f\"{len(user_ids)} synthetic health records inserted successfully!\")"
   ]
  },
  {
   "cell_type": "markdown",
   "metadata": {},
   "source": [
    "# Populate Conditions, Medications, and ConditionsMedications tables"
   ]
  },
  {
   "cell_type": "code",
   "execution_count": 4,
   "metadata": {},
   "outputs": [
    {
     "name": "stdout",
     "output_type": "stream",
     "text": [
      "Expanded conditions, medications, and mappings inserted successfully!\n"
     ]
    }
   ],
   "source": [
    "# Connect to MySQL\n",
    "conn = mysql.connector.connect(\n",
    "    host=\"localhost\",\n",
    "    user=\"root\",\n",
    "    password=\"123456789!\",\n",
    "    database=\"User_DB\"\n",
    ")\n",
    "cursor = conn.cursor()\n",
    "\n",
    "# Expanded conditions related to poor lifestyle\n",
    "conditions = [\n",
    "    (\"Obesity\",),\n",
    "    (\"Type 2 Diabetes\",),\n",
    "    (\"Hypertension\",),\n",
    "    (\"High Cholesterol\",),\n",
    "    (\"Heart Disease\",),\n",
    "    (\"Liver Disease (Fatty Liver)\",),\n",
    "    (\"Chronic Obstructive Pulmonary Disease (COPD)\",),\n",
    "    (\"Alcoholic Liver Disease\",),\n",
    "    (\"Stroke\",),\n",
    "    (\"Gastroesophageal Reflux Disease (GERD)\",),\n",
    "    (\"Gout\",),\n",
    "    (\"Osteoarthritis\",),\n",
    "    (\"Depression & Anxiety\",),\n",
    "    (\"Sleep Apnea\",),\n",
    "    (\"Non-Alcoholic Fatty Liver Disease (NAFLD)\",),\n",
    "    (\"Erectile Dysfunction\",),\n",
    "    (\"Polycystic Ovary Syndrome (PCOS)\",),\n",
    "    (\"Chronic Kidney Disease (CKD)\",),\n",
    "    (\"Lung Cancer\",),\n",
    "    (\"Colon Cancer\",),\n",
    "    (\"Pancreatitis\",),\n",
    "    (\"Cirrhosis\",),\n",
    "]\n",
    "\n",
    "# Insert conditions into Conditions table\n",
    "cursor.executemany(\"INSERT INTO Conditions (condition_name) VALUES (%s)\", conditions)\n",
    "conn.commit()\n",
    "\n",
    "# Retrieve condition IDs\n",
    "cursor.execute(\"SELECT condition_id, condition_name FROM Conditions\")\n",
    "condition_dict = {name: cid for cid, name in cursor.fetchall()}\n",
    "\n",
    "# Define medications for each condition\n",
    "medications = {\n",
    "    \"Obesity\": [\"Orlistat\", \"Phentermine\", \"Liraglutide\", \"Semaglutide\"],\n",
    "    \"Type 2 Diabetes\": [\"Metformin\", \"Insulin\", \"Glipizide\", \"Dapagliflozin\", \"Sitagliptin\"],\n",
    "    \"Hypertension\": [\"Lisinopril\", \"Amlodipine\", \"Hydrochlorothiazide\", \"Losartan\", \"Metoprolol\"],\n",
    "    \"High Cholesterol\": [\"Atorvastatin\", \"Simvastatin\", \"Rosuvastatin\", \"Ezetimibe\", \"Fenofibrate\"],\n",
    "    \"Heart Disease\": [\"Aspirin\", \"Clopidogrel\", \"Beta Blockers\", \"ACE Inhibitors\", \"Nitroglycerin\"],\n",
    "    \"Liver Disease (Fatty Liver)\": [\"Vitamin E\", \"Pioglitazone\", \"Ursodeoxycholic Acid\"],\n",
    "    \"Chronic Obstructive Pulmonary Disease (COPD)\": [\"Albuterol\", \"Tiotropium\", \"Ipratropium\", \"Prednisone\"],\n",
    "    \"Alcoholic Liver Disease\": [\"Baclofen\", \"Pentoxifylline\"],\n",
    "    \"Stroke\": [\"Alteplase\", \"Warfarin\", \"Aspirin\", \"Clopidogrel\"],\n",
    "    \"Gastroesophageal Reflux Disease (GERD)\": [\"Omeprazole\", \"Esomeprazole\", \"Ranitidine\", \"Famotidine\"],\n",
    "    \"Gout\": [\"Allopurinol\", \"Febuxostat\", \"Colchicine\", \"Probenecid\"],\n",
    "    \"Osteoarthritis\": [\"Acetaminophen\", \"Ibuprofen\", \"Celecoxib\", \"Naproxen\"],\n",
    "    \"Depression & Anxiety\": [\"Fluoxetine\", \"Sertraline\", \"Escitalopram\", \"Venlafaxine\", \"Bupropion\"],\n",
    "    \"Sleep Apnea\": [\"Modafinil\"],\n",
    "    \"Non-Alcoholic Fatty Liver Disease (NAFLD)\": [\"Pioglitazone\", \"Vitamin E\", \"Omega-3 Fatty Acids\"],\n",
    "    \"Erectile Dysfunction\": [\"Sildenafil\", \"Tadalafil\", \"Vardenafil\"],\n",
    "    \"Polycystic Ovary Syndrome (PCOS)\": [\"Metformin\", \"Spironolactone\", \"Oral Contraceptives\"],\n",
    "    \"Chronic Kidney Disease (CKD)\": [\"Lisinopril\", \"Losartan\", \"Sodium Bicarbonate\"],\n",
    "    \"Lung Cancer\": [\"Cisplatin\", \"Carboplatin\", \"Osimertinib\", \"Erlotinib\"],\n",
    "    \"Colon Cancer\": [\"Fluorouracil\", \"Oxaliplatin\"],\n",
    "    \"Pancreatitis\": [\"Pancreatic Enzyme Replacement Therapy\", \"Pain Relievers\"],\n",
    "    \"Cirrhosis\": [\"Furosemide\", \"Spironolactone\", \"Lactulose\"],\n",
    "}\n",
    "\n",
    "# Insert medications into Medications table\n",
    "medication_names = set(med for med_list in medications.values() for med in med_list)\n",
    "cursor.executemany(\"INSERT INTO Medications (medication_name) VALUES (%s)\", [(med,) for med in medication_names])\n",
    "conn.commit()\n",
    "\n",
    "# Retrieve medication IDs\n",
    "cursor.execute(\"SELECT medication_id, medication_name FROM Medications\")\n",
    "medication_dict = {name: mid for mid, name in cursor.fetchall()}\n",
    "\n",
    "# Insert data into ConditionsMedications table\n",
    "conditions_medications = [(condition_dict[c], medication_dict[m]) for c in medications for m in medications[c]]\n",
    "\n",
    "cursor.executemany(\"INSERT INTO ConditionsMedications (condition_id, medication_id) VALUES (%s, %s)\", conditions_medications)\n",
    "conn.commit()\n",
    "\n",
    "# Close connection\n",
    "cursor.close()\n",
    "conn.close()\n",
    "\n",
    "print(\"Expanded conditions, medications, and mappings inserted successfully!\")\n"
   ]
  },
  {
   "cell_type": "markdown",
   "metadata": {},
   "source": [
    "# Populate UserConditions and UserMedications tables"
   ]
  },
  {
   "cell_type": "code",
   "execution_count": 8,
   "metadata": {},
   "outputs": [
    {
     "name": "stdout",
     "output_type": "stream",
     "text": [
      "Conditions and medications assigned to users successfully!\n"
     ]
    }
   ],
   "source": [
    "# Connect to MySQL\n",
    "conn = mysql.connector.connect(\n",
    "    host=\"localhost\",\n",
    "    user=\"root\",\n",
    "    password=\"123456789!\",\n",
    "    database=\"User_DB\"\n",
    ")\n",
    "cursor = conn.cursor()\n",
    "\n",
    "# Step 1: Retrieve all users\n",
    "cursor.execute(\"SELECT user_id FROM UserInfo\")\n",
    "users = [row[0] for row in cursor.fetchall()]\n",
    "\n",
    "# Step 2: Retrieve all conditions\n",
    "cursor.execute(\"SELECT condition_id FROM Conditions\")\n",
    "conditions = [row[0] for row in cursor.fetchall()]\n",
    "\n",
    "# Step 3: Retrieve all condition-medication mappings\n",
    "cursor.execute(\"SELECT condition_id, medication_id FROM ConditionsMedications\")\n",
    "condition_medications = {}\n",
    "for condition_id, medication_id in cursor.fetchall():\n",
    "    if condition_id not in condition_medications:\n",
    "        condition_medications[condition_id] = []\n",
    "    condition_medications[condition_id].append(medication_id)\n",
    "\n",
    "# Step 4: Assign conditions & medications to users\n",
    "user_conditions = []\n",
    "user_medications = []\n",
    "\n",
    "for user_id in users:\n",
    "    # Assign 1 to 3 random conditions per user\n",
    "    assigned_conditions = random.sample(conditions, k=random.randint(1, 3))\n",
    "    \n",
    "    for condition_id in assigned_conditions:\n",
    "        user_conditions.append((user_id, condition_id))\n",
    "        \n",
    "        # Assign medications linked to this condition\n",
    "        if condition_id in condition_medications:\n",
    "            for medication_id in condition_medications[condition_id]:\n",
    "                user_medications.append((user_id, medication_id))\n",
    "\n",
    "# Step 5: Insert assigned conditions into UserConditions\n",
    "cursor.executemany(\"INSERT INTO UserConditions (user_id, condition_id) VALUES (%s, %s)\", user_conditions)\n",
    "conn.commit()\n",
    "\n",
    "# Step 6: Insert assigned medications into UserMedications (avoid duplicates)\n",
    "user_medications = list(set(user_medications))  # Remove duplicate entries\n",
    "cursor.executemany(\"INSERT INTO UserMedications (user_id, medication_id) VALUES (%s, %s)\", user_medications)\n",
    "conn.commit()\n",
    "\n",
    "# Close connection\n",
    "cursor.close()\n",
    "conn.close()\n",
    "\n",
    "print(\"Conditions and medications assigned to users successfully!\")\n"
   ]
  }
 ],
 "metadata": {
  "kernelspec": {
   "display_name": "Python 3",
   "language": "python",
   "name": "python3"
  },
  "language_info": {
   "codemirror_mode": {
    "name": "ipython",
    "version": 3
   },
   "file_extension": ".py",
   "mimetype": "text/x-python",
   "name": "python",
   "nbconvert_exporter": "python",
   "pygments_lexer": "ipython3",
   "version": "3.11.9"
  }
 },
 "nbformat": 4,
 "nbformat_minor": 2
}
