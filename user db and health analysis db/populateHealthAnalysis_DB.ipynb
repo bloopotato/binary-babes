{
 "cells": [
  {
   "cell_type": "code",
   "execution_count": 2,
   "metadata": {},
   "outputs": [],
   "source": [
    "import mysql.connector"
   ]
  },
  {
   "cell_type": "markdown",
   "metadata": {},
   "source": [
    "# Populate DiseaseRiskFactors table"
   ]
  },
  {
   "cell_type": "code",
   "execution_count": 4,
   "metadata": {},
   "outputs": [
    {
     "name": "stdout",
     "output_type": "stream",
     "text": [
      "Disease risk factors populated successfully!\n"
     ]
    }
   ],
   "source": [
    "# Connect to the HealthAnalysis database\n",
    "conn = mysql.connector.connect(\n",
    "    host=\"localhost\",\n",
    "    user=\"root\",\n",
    "    password=\"123456789!\",\n",
    "    database=\"HealthAnalysis_DB\"\n",
    ")\n",
    "cursor = conn.cursor()\n",
    "\n",
    "# Sample data for the DiseaseRiskFactors table based on Conditions\n",
    "disease_risk_factors = [\n",
    "    ('Obesity', 'Poor diet', 'High'),\n",
    "    ('Obesity', 'Sedentary lifestyle', 'High'),\n",
    "    ('Hypertension', 'High sodium intake', 'High'),\n",
    "    ('Hypertension', 'High alcohol consumption', 'Moderate'),\n",
    "    ('Type 2 Diabetes', 'High sugar consumption', 'High'),\n",
    "    ('Type 2 Diabetes', 'Sedentary lifestyle', 'High'),\n",
    "    ('Cardiovascular Disease', 'High stress', 'High'),\n",
    "    ('Cardiovascular Disease', 'High saturated fat intake', 'Moderate'),\n",
    "    ('Depression', 'High alcohol consumption', 'Moderate'),\n",
    "    ('Depression', 'High stress', 'High'),\n",
    "    ('Anxiety', 'High caffeine consumption', 'Moderate'),\n",
    "    ('Insomnia', 'Lack of sleep', 'High'),\n",
    "    ('Insomnia', 'High caffeine consumption', 'Moderate'),\n",
    "    ('Osteoporosis', 'Low calcium intake', 'High'),\n",
    "    ('Osteoporosis', 'Low exercise frequency', 'Moderate'),\n",
    "    ('Chronic Stress', 'High caffeine consumption', 'High'),\n",
    "    ('Chronic Stress', 'Poor diet', 'Moderate'),\n",
    "]\n",
    "\n",
    "# Step 1: Insert data into the DiseaseRiskFactors table\n",
    "for disease_name, risk_factor, risk_level in disease_risk_factors:\n",
    "    sql = \"\"\"INSERT INTO DiseaseRiskFactors (disease_name, risk_factor, risk_level) \n",
    "             VALUES (%s, %s, %s)\"\"\"\n",
    "    values = (disease_name, risk_factor, risk_level)\n",
    "    \n",
    "    cursor.execute(sql, values)\n",
    "\n",
    "# Commit the changes and close the connection\n",
    "conn.commit()\n",
    "cursor.close()\n",
    "conn.close()\n",
    "\n",
    "print(\"Disease risk factors populated successfully!\")"
   ]
  },
  {
   "cell_type": "markdown",
   "metadata": {},
   "source": [
    "# Populate PredictedIllnesses table using trained AI model"
   ]
  },
  {
   "cell_type": "code",
   "execution_count": null,
   "metadata": {},
   "outputs": [
    {
     "name": "stderr",
     "output_type": "stream",
     "text": [
      "C:\\Users\\ACER\\AppData\\Local\\Temp\\ipykernel_29048\\1824330187.py:1: DeprecationWarning: \n",
      "Pyarrow will become a required dependency of pandas in the next major release of pandas (pandas 3.0),\n",
      "(to allow more performant data types, such as the Arrow string type, and better interoperability with other libraries)\n",
      "but was not found to be installed on your system.\n",
      "If this would cause problems for you,\n",
      "please provide us feedback at https://github.com/pandas-dev/pandas/issues/54466\n",
      "        \n",
      "  import pandas as pd\n"
     ]
    }
   ],
   "source": [
    "import pandas as pd\n",
    "import numpy as np\n",
    "import random\n",
    "import mysql.connector\n",
    "from sklearn.model_selection import train_test_split\n",
    "from sklearn.ensemble import RandomForestClassifier\n",
    "from sklearn.metrics import accuracy_score\n"
   ]
  },
  {
   "cell_type": "code",
   "execution_count": 2,
   "metadata": {},
   "outputs": [],
   "source": [
    "# Connect to MySQL\n",
    "conn = mysql.connector.connect(\n",
    "    host=\"localhost\",\n",
    "    user=\"root\",\n",
    "    password=\"123456789!\",\n",
    "    database=\"User_DB\"\n",
    ")\n",
    "cursor = conn.cursor()\n",
    "\n",
    "# Fetch health metrics\n",
    "cursor.execute(\"\"\"\n",
    "    SELECT health_metric_id, user_id, avg_exercise_per_week, avg_sleep_hours, stress_level, diet_quality, most_freq_substance_used\n",
    "    FROM HealthMetrics\n",
    "\"\"\")\n",
    "data = cursor.fetchall()\n",
    "\n",
    "# Convert to Pandas DataFrame\n",
    "df = pd.DataFrame(data, columns=[\"health_metric_id\", \"user_id\", \"avg_exercise_per_week\", \"avg_sleep_hours\", \"stress_level\", \"diet_quality\", \"most_freq_substance_used\"])\n",
    "\n",
    "# Close connection\n",
    "cursor.close()\n",
    "conn.close()\n"
   ]
  },
  {
   "cell_type": "code",
   "execution_count": 3,
   "metadata": {},
   "outputs": [],
   "source": [
    "# Encoding categorical variables\n",
    "df[\"diet_quality\"] = df[\"diet_quality\"].map({\"Poor\": 1, \"Average\": 2, \"Good\": 3, \"Very good\": 4})\n",
    "df[\"most_freq_substance_used\"] = df[\"most_freq_substance_used\"].map({\"None\": 0, \"Caffeine\": 1, \"Alcohol\": 2, \"Tobacco\": 3})\n",
    "\n",
    "# Generating synthetic illness labels based on risk factors\n",
    "def assign_illness(row):\n",
    "    if row[\"stress_level\"] >= 8 and row[\"avg_sleep_hours\"] < 6:\n",
    "        return \"Hypertension\"\n",
    "    elif row[\"most_freq_substance_used\"] == 3 and row[\"diet_quality\"] == 1:\n",
    "        return \"Lung Disease\"\n",
    "    elif row[\"avg_exercise_per_week\"] < 2 and row[\"diet_quality\"] in [1, 2]:\n",
    "        return \"Obesity\"\n",
    "    else:\n",
    "        return \"No Risk\"\n",
    "\n",
    "df[\"predicted_disease\"] = df.apply(assign_illness, axis=1)\n",
    "\n",
    "# Drop users with \"No Risk\" if you only want to predict for at-risk users\n",
    "df = df[df[\"predicted_disease\"] != \"No Risk\"]\n",
    "\n",
    "# Define features and labels\n",
    "X = df.drop(columns=[\"predicted_disease\", \"health_metric_id\", \"user_id\"])  # Features\n",
    "y = df[\"predicted_disease\"]  # Labels\n"
   ]
  },
  {
   "cell_type": "code",
   "execution_count": 4,
   "metadata": {},
   "outputs": [
    {
     "name": "stdout",
     "output_type": "stream",
     "text": [
      "Model Accuracy: 100.00%\n"
     ]
    }
   ],
   "source": [
    "# Split data into training and testing sets\n",
    "X_train, X_test, y_train, y_test = train_test_split(X, y, test_size=0.2, random_state=42)\n",
    "\n",
    "# Train a Random Forest model\n",
    "model = RandomForestClassifier(n_estimators=100, random_state=42)\n",
    "model.fit(X_train, y_train)\n",
    "\n",
    "# Make predictions\n",
    "y_pred = model.predict(X_test)\n",
    "\n",
    "# Evaluate accuracy\n",
    "accuracy = accuracy_score(y_test, y_pred)\n",
    "print(f\"Model Accuracy: {accuracy * 100:.2f}%\")\n"
   ]
  },
  {
   "cell_type": "code",
   "execution_count": 5,
   "metadata": {},
   "outputs": [
    {
     "name": "stdout",
     "output_type": "stream",
     "text": [
      "70 illness predictions inserted into PredictedIllnesses table.\n"
     ]
    }
   ],
   "source": [
    "# Reconnect to MySQL\n",
    "conn = mysql.connector.connect(\n",
    "    host=\"localhost\",\n",
    "    user=\"root\",\n",
    "    password=\"123456789!\",\n",
    "    database=\"HealthAnalysis_DB\"\n",
    ")\n",
    "cursor = conn.cursor()\n",
    "\n",
    "# Predict illness for all users\n",
    "df[\"predicted_disease\"] = model.predict(X)\n",
    "df[\"confidence_score\"] = np.max(model.predict_proba(X), axis=1)  # Confidence score\n",
    "df[\"risk_level\"] = df[\"confidence_score\"].apply(lambda x: \"High\" if x > 0.8 else \"Moderate\" if x > 0.5 else \"Low\")\n",
    "\n",
    "# Insert predictions into PredictedIllnesses table\n",
    "for index, row in df.iterrows():\n",
    "    sql = \"\"\"INSERT INTO PredictedIllnesses (user_id, health_metric_id, predicted_disease, confidence_score, risk_level)\n",
    "             VALUES (%s, %s, %s, %s, %s)\"\"\"\n",
    "    values = (row[\"user_id\"], row[\"health_metric_id\"], row[\"predicted_disease\"], row[\"confidence_score\"], row[\"risk_level\"])\n",
    "    \n",
    "    cursor.execute(sql, values)\n",
    "\n",
    "# Commit changes\n",
    "conn.commit()\n",
    "\n",
    "# Close connection\n",
    "cursor.close()\n",
    "conn.close()\n",
    "\n",
    "print(f\"{len(df)} illness predictions inserted into PredictedIllnesses table.\")\n"
   ]
  },
  {
   "cell_type": "markdown",
   "metadata": {},
   "source": [
    "## To predict new user input"
   ]
  },
  {
   "cell_type": "code",
   "execution_count": 12,
   "metadata": {},
   "outputs": [
    {
     "name": "stdout",
     "output_type": "stream",
     "text": [
      "Prediction for User 101 stored successfully!\n",
      "New User Prediction: {'predicted_disease': 'Hypertension', 'confidence_score': 0.86, 'risk_level': 'High'}\n"
     ]
    }
   ],
   "source": [
    "# Function to store predictions into the database\n",
    "def store_data_into_db(user_id, health_metric_id, predicted_disease, confidence_score, risk_level):\n",
    "    try:\n",
    "        # Convert confidence_score to float\n",
    "        confidence_score = float(confidence_score)\n",
    "\n",
    "        # Connect to MySQL\n",
    "        conn = mysql.connector.connect(\n",
    "            host=\"localhost\",\n",
    "            user=\"root\",\n",
    "            password=\"123456789!\",\n",
    "            database=\"HealthAnalysis_DB\"\n",
    "        )\n",
    "        cursor = conn.cursor()\n",
    "\n",
    "        # Insert prediction into PredictedIllnesses table\n",
    "        insert_query = \"\"\"\n",
    "        INSERT INTO PredictedIllnesses (user_id, health_metric_id, predicted_disease, confidence_score, risk_level)\n",
    "        VALUES (%s, %s, %s, %s, %s)\n",
    "        \"\"\"\n",
    "        values = (user_id, health_metric_id, predicted_disease, confidence_score, risk_level)\n",
    "\n",
    "        cursor.execute(insert_query, values)\n",
    "        conn.commit()\n",
    "\n",
    "        print(f\"Prediction for User {user_id} stored successfully!\")\n",
    "\n",
    "    except mysql.connector.Error as err:\n",
    "        print(f\"Error: {err}\")\n",
    "    \n",
    "    finally:\n",
    "        cursor.close()\n",
    "        conn.close()\n",
    "\n",
    "# Function to predict illness and store it in the database\n",
    "def predict_new_user_illness(new_user_data, model):\n",
    "    # Convert input to DataFrame\n",
    "    new_user_df = pd.DataFrame([new_user_data])\n",
    "\n",
    "    # Apply encoding\n",
    "    new_user_df[\"diet_quality\"] = new_user_df[\"diet_quality\"].map({\"Poor\": 1, \"Average\": 2, \"Good\": 3, \"Very good\": 4})\n",
    "    new_user_df[\"most_freq_substance_used\"] = new_user_df[\"most_freq_substance_used\"].map({\"None\": 0, \"Caffeine\": 1, \"Alcohol\": 2, \"Tobacco\": 3})\n",
    "\n",
    "    # Ensure correct feature order\n",
    "    new_user_X = new_user_df[[\"avg_exercise_per_week\", \"avg_sleep_hours\", \"stress_level\", \"diet_quality\", \"most_freq_substance_used\"]]\n",
    "\n",
    "    # Make prediction\n",
    "    predicted_disease = model.predict(new_user_X)[0]\n",
    "    confidence_score = np.max(model.predict_proba(new_user_X), axis=1)[0]\n",
    "    risk_level = \"High\" if confidence_score > 0.8 else \"Moderate\" if confidence_score > 0.5 else \"Low\"\n",
    "\n",
    "    # Store prediction in the database\n",
    "    store_data_into_db(new_user_data[\"user_id\"], new_user_data[\"health_metric_id\"], predicted_disease, confidence_score, risk_level)\n",
    "\n",
    "    return {\n",
    "        \"predicted_disease\": predicted_disease,\n",
    "        \"confidence_score\": confidence_score,\n",
    "        \"risk_level\": risk_level\n",
    "    }\n",
    "\n",
    "# Define new user data, including health_metric_id\n",
    "new_user = {\n",
    "    \"user_id\": 101,  # Replace with actual user ID\n",
    "    \"health_metric_id\": 1,  # Replace with the correct health_metric_id\n",
    "    \"avg_exercise_per_week\": 1,\n",
    "    \"avg_sleep_hours\": 5,\n",
    "    \"stress_level\": 9,\n",
    "    \"diet_quality\": \"Poor\",\n",
    "    \"most_freq_substance_used\": \"Tobacco\"\n",
    "}\n",
    "\n",
    "# Predict and store result\n",
    "prediction_result = predict_new_user_illness(new_user, model)\n",
    "print(\"New User Prediction:\", prediction_result)\n"
   ]
  }
 ],
 "metadata": {
  "kernelspec": {
   "display_name": "Python 3",
   "language": "python",
   "name": "python3"
  },
  "language_info": {
   "codemirror_mode": {
    "name": "ipython",
    "version": 3
   },
   "file_extension": ".py",
   "mimetype": "text/x-python",
   "name": "python",
   "nbconvert_exporter": "python",
   "pygments_lexer": "ipython3",
   "version": "3.11.9"
  }
 },
 "nbformat": 4,
 "nbformat_minor": 2
}
